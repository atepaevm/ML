{
 "cells": [
  {
   "cell_type": "code",
   "execution_count": 9,
   "metadata": {
    "scrolled": true
   },
   "outputs": [
    {
     "name": "stdout",
     "output_type": "stream",
     "text": [
      "first_blood_time  omits  19553  values;\n",
      "first_blood_team  omits  19553  values;\n",
      "first_blood_player1  omits  19553  values;\n",
      "first_blood_player2  omits  43987  values;\n",
      "radiant_bottle_time  omits  15691  values;\n",
      "radiant_courier_time  omits  692  values;\n",
      "radiant_flying_courier_time  omits  27479  values;\n",
      "radiant_first_ward_time  omits  1836  values;\n",
      "dire_bottle_time  omits  16143  values;\n",
      "dire_courier_time  omits  676  values;\n",
      "dire_flying_courier_time  omits  26098  values;\n",
      "dire_first_ward_time  omits  1826  values;\n"
     ]
    }
   ],
   "source": [
    "'''\n",
    "Добрый день, дорогой участник курса!\n",
    "Должно быть, ты читаешь эти строки, чтобы твою работу поскорей проверили.\n",
    "Запускай окошки последовательно в директории с данными - и будет тебе счастье.\n",
    "'''\n",
    "#импортируем всё, что нужно для счастья\n",
    "import time\n",
    "import datetime\n",
    "from sklearn.metrics import accuracy_score\n",
    "from sklearn.ensemble import GradientBoostingClassifier\n",
    "from sklearn.metrics import roc_auc_score\n",
    "import numpy as np\n",
    "from sklearn.model_selection import KFold\n",
    "import pandas\n",
    "\n",
    "#извлекаем признаки\n",
    "features = pandas.read_csv('./features.csv', index_col='match_id')\n",
    "#сохраним целевую переменную - победила или нет команда radiant\n",
    "y=features.radiant_win\n",
    "\n",
    "#Удалим всё, что не относится к первым пяти минутам\n",
    "features=features.drop(['duration','radiant_win','tower_status_radiant',\n",
    "               'tower_status_dire','barracks_status_radiant','barracks_status_dire'],axis=1)\n",
    "\n",
    "#features=features.drop(['duration','tower_status_radiant',\n",
    "#                        'tower_status_dire','barracks_status_radiant','barracks_status_dire'],axis=1)\n",
    "\n",
    "\n",
    "#Проверяем наличие NaN значений. Если они есть, выведем информацию об этом\n",
    "# list(df.columns.values) - список имён колонок \n",
    "for column_name in list(features.columns.values):\n",
    "    if(features[column_name].count()!=features.shape[0]):\n",
    "        print(column_name,' omits ',features.shape[0]-features[column_name].count(),' values;')\n",
    "\n"
   ]
  },
  {
   "cell_type": "code",
   "execution_count": null,
   "metadata": {},
   "outputs": [
    {
     "name": "stdout",
     "output_type": "stream",
     "text": [
      "tree count:  5  roc_auc:  0.636930420883 time: 0:00:15.183741\n",
      "tree count:  10  roc_auc:  0.666034026451 time: 0:00:25.906847\n"
     ]
    }
   ],
   "source": [
    "'''\n",
    "Вывод после запуска окошка выше\n",
    "first_blood_time  omits  19553  values;\n",
    "first_blood_team  omits  19553  values;\n",
    "first_blood_player1  omits  19553  values;\n",
    "first_blood_player2  omits  43987  values;\n",
    "radiant_bottle_time  omits  15691  values;\n",
    "radiant_courier_time  omits  692  values;\n",
    "radiant_flying_courier_time  omits  27479  values;\n",
    "radiant_first_ward_time  omits  1836  values;\n",
    "dire_bottle_time  omits  16143  values;\n",
    "dire_courier_time  omits  676  values;\n",
    "dire_flying_courier_time  omits  26098  values;\n",
    "dire_first_ward_time  omits  1826  values;\n",
    "\n",
    "Ого, NaN значений действительно много! Для first_blood_player1 и first_blood_player2 можно сказать,\n",
    "что данные достаточно редкие, видимо, не всегда они есть в доступной для парсера статистике. \n",
    "\n",
    "'''\n",
    "\n",
    "\n",
    "\n",
    "#С NaN разобрались, заполним значение нулями. Кстати, заполнение большой величиной позволило повысить качество\n",
    "#примерно на 0.2%. Пустячок, а приятно\n",
    "features.fillna(9999999,inplace=True)\n",
    "\n",
    "#Почти всё готово для предсказания, прогоним GradientBoostingClassifier со значениями 5, 10, 20, 30, 40\n",
    "\n",
    "results=[]\n",
    "times=[]\n",
    "n_list=[5,10,20]\n",
    "for n in n_list:\n",
    "    start_time = datetime.datetime.now()\n",
    "    results.append(getMetrics(n))\n",
    "    times.append(datetime.datetime.now() - start_time)\n",
    "    print('tree count: ',n,' roc_auc: ',results[-1],'time:',times[-1])\n",
    "    "
   ]
  },
  {
   "cell_type": "code",
   "execution_count": 7,
   "metadata": {},
   "outputs": [
    {
     "data": {
      "text/plain": [
       "'\\nВидно, что увеличение количества деревьев приносит результат, но чем дальше, тем меньше.\\nБудет полезнее улучшать данные.\\nКраткий отчёт в одном месте:\\n1. \\nfirst_blood_time  omits  19553  values;\\nfirst_blood_team  omits  19553  values;\\nfirst_blood_player1  omits  19553  values;\\nfirst_blood_player2  omits  43987  values;\\nradiant_bottle_time  omits  15691  values;\\nradiant_courier_time  omits  692  values;\\nradiant_flying_courier_time  omits  27479  values;\\nradiant_first_ward_time  omits  1836  values;\\ndire_bottle_time  omits  16143  values;\\ndire_courier_time  omits  676  values;\\ndire_flying_courier_time  omits  26098  values;\\ndire_first_ward_time  omits  1826  values;\\nДля first_blood_player1 и first_blood_player2 можно сказать,\\nчто данные достаточно редкие, видимо, не всегда они есть в доступной для парсера статистике. \\n2. \\nradiant_win\\n3. \\n74.91 секунды\\n4. \\nНет, не имеет, нужно улучшать предварительную обработку данных. Для ускорения обучения можно использовать\\nне всю выборку, а лишь некоторое случайное подмножество или уменьшить глубину деревьев\\n\\n'"
      ]
     },
     "execution_count": 7,
     "metadata": {},
     "output_type": "execute_result"
    },
    {
     "data": {
      "image/png": "[encoded data removed]",
      "text/plain": [
       "<matplotlib.figure.Figure at 0xb2045c0>"
      ]
     },
     "metadata": {},
     "output_type": "display_data"
    }
   ],
   "source": [
    "'''\n",
    "У меня получились следующие результаты:\n",
    "\n",
    "tree count:  5  roc_auc:  0.635357433114 time: 0:00:15.376037\n",
    "tree count:  10  roc_auc:  0.664850687975 time: 0:00:26.363707\n",
    "tree count:  20  roc_auc:  0.682461876804 time: 0:00:52.652367\n",
    "tree count:  30  roc_auc:  0.690006471039 time: 0:01:14.910629\n",
    "tree count:  40  roc_auc:  0.694038724512 time: 0:01:34.234331\n",
    "'''\n",
    "\n",
    "import matplotlib.pyplot as plt\n",
    "%matplotlib inline\n",
    "plt.figure()\n",
    "plt.plot(n_list,results)\n",
    "'''\n",
    "Видно, что увеличение количества деревьев приносит результат, но чем дальше, тем меньше.\n",
    "Будет полезнее улучшать данные.\n",
    "Краткий отчёт в одном месте:\n",
    "1. \n",
    "first_blood_time  omits  19553  values;\n",
    "first_blood_team  omits  19553  values;\n",
    "first_blood_player1  omits  19553  values;\n",
    "first_blood_player2  omits  43987  values;\n",
    "radiant_bottle_time  omits  15691  values;\n",
    "radiant_courier_time  omits  692  values;\n",
    "radiant_flying_courier_time  omits  27479  values;\n",
    "radiant_first_ward_time  omits  1836  values;\n",
    "dire_bottle_time  omits  16143  values;\n",
    "dire_courier_time  omits  676  values;\n",
    "dire_flying_courier_time  omits  26098  values;\n",
    "dire_first_ward_time  omits  1826  values;\n",
    "Для first_blood_player1 и first_blood_player2 можно сказать,\n",
    "что данные достаточно редкие, видимо, не всегда они есть в доступной для парсера статистике. \n",
    "2. \n",
    "radiant_win\n",
    "3. \n",
    "74.91 секунды\n",
    "4. \n",
    "Нет, не имеет, нужно улучшать предварительную обработку данных. Для ускорения обучения можно использовать\n",
    "не всю выборку, а лишь некоторое случайное подмножество или уменьшить глубину деревьев\n",
    "\n",
    "'''"
   ]
  },
  {
   "cell_type": "code",
   "execution_count": 3,
   "metadata": {
    "collapsed": true
   },
   "outputs": [],
   "source": [
    "'''\n",
    "Функция, инкапсулирующая в себе обучение, кросс-валидацию и подсчёт метрики\n",
    "'''\n",
    "def getMetrics(n):\n",
    "    auc_roc=0;\n",
    "    kf=KFold(n_splits=5,shuffle=True,random_state=42)\n",
    "    clf=GradientBoostingClassifier(n_estimators=n, random_state=42)\n",
    "    for train,test in kf.split(features,y):\n",
    "        clf.fit(features.iloc[train],y.iloc[train])\n",
    "        pred=clf.predict_proba(features.iloc[test])[:,1]\n",
    "        auc_roc+=roc_auc_score(y.iloc[test],pred)\n",
    "    return auc_roc/5;"
   ]
  },
  {
   "cell_type": "code",
   "execution_count": 33,
   "metadata": {},
   "outputs": [
    {
     "data": {
      "text/plain": [
       "array([ 0.5183577 ,  0.51835797,  0.51835806, ...,  0.51861537,\n",
       "        0.51861538,  0.51861565])"
      ]
     },
     "execution_count": 33,
     "metadata": {},
     "output_type": "execute_result"
    }
   ],
   "source": [
    "'''\n",
    "Время логистической регрессии! Данные у нас уже получены и обработаны, можно сразу учить\n",
    "'''\n",
    "from sklearn.linear_model import pred=clf.predict_proba(features.iloc[test])[:,1]\n",
    "#for c in [0.001,0.01,0.1,1,10,100,1000,10000,100000]:\n",
    "#    print(c,getLogMetrics(c))\n",
    "clf=LogisticRegression(C=0.00000001,penalty='l2')\n",
    "clf.fit(features,y)\n",
    "pred=clf.predict_proba(features)[:,1]\n",
    "pred"
   ]
  },
  {
   "cell_type": "code",
   "execution_count": 24,
   "metadata": {
    "collapsed": true
   },
   "outputs": [],
   "source": [
    "def getLogMetrics(n):\n",
    "    auc_roc=0;\n",
    "    kf=KFold(n_splits=5,shuffle=True,random_state=42)\n",
    "    clf=LogisticRegression(C=n,penalty='l2')\n",
    "    for train,test in kf.split(features,y):\n",
    "        clf.fit(features.iloc[train],y.iloc[train])\n",
    "        pred=clf.predict_proba(features.iloc[test])[:,1]\n",
    "        auc_roc+=roc_auc_score(y.iloc[test],pred)\n",
    "    return auc_roc/5;"
   ]
  },
  {
   "cell_type": "code",
   "execution_count": 3,
   "metadata": {
    "collapsed": true
   },
   "outputs": [],
   "source": [
    "win=features[features.radiant_win==1]\n",
    "lost=features[features.radiant_win==0]"
   ]
  },
  {
   "cell_type": "code",
   "execution_count": null,
   "metadata": {},
   "outputs": [
    {
     "data": {
      "text/plain": [
       "<matplotlib.axes._subplots.AxesSubplot at 0x41b02208>"
      ]
     },
     "execution_count": 55,
     "metadata": {},
     "output_type": "execute_result"
    }
   ],
   "source": [
    "%matplotlib inline\n",
    "plt.figure()\n",
    "win.r1_gold.plot(kind='bar',style='dict')"
   ]
  },
  {
   "cell_type": "code",
   "execution_count": 4,
   "metadata": {},
   "outputs": [
    {
     "ename": "NameError",
     "evalue": "name 'plt' is not defined",
     "output_type": "error",
     "traceback": [
      "\u001b[1;31m---------------------------------------------------------------------------\u001b[0m",
      "\u001b[1;31mNameError\u001b[0m                                 Traceback (most recent call last)",
      "\u001b[1;32m<ipython-input-4-577f427c9832>\u001b[0m in \u001b[0;36m<module>\u001b[1;34m()\u001b[0m\n\u001b[0;32m      1\u001b[0m \u001b[0mget_ipython\u001b[0m\u001b[1;33m(\u001b[0m\u001b[1;33m)\u001b[0m\u001b[1;33m.\u001b[0m\u001b[0mmagic\u001b[0m\u001b[1;33m(\u001b[0m\u001b[1;34m'matplotlib inline'\u001b[0m\u001b[1;33m)\u001b[0m\u001b[1;33m\u001b[0m\u001b[0m\n\u001b[1;32m----> 2\u001b[1;33m \u001b[0mplt\u001b[0m\u001b[1;33m.\u001b[0m\u001b[0mfigure\u001b[0m\u001b[1;33m(\u001b[0m\u001b[1;33m)\u001b[0m\u001b[1;33m\u001b[0m\u001b[0m\n\u001b[0m\u001b[0;32m      3\u001b[0m \u001b[0mlost\u001b[0m\u001b[1;33m.\u001b[0m\u001b[0mr1_gold\u001b[0m\u001b[1;33m.\u001b[0m\u001b[0mplot\u001b[0m\u001b[1;33m(\u001b[0m\u001b[0mkind\u001b[0m\u001b[1;33m=\u001b[0m\u001b[1;34m'hist'\u001b[0m\u001b[1;33m)\u001b[0m\u001b[1;33m\u001b[0m\u001b[0m\n",
      "\u001b[1;31mNameError\u001b[0m: name 'plt' is not defined"
     ]
    }
   ],
   "source": [
    "%matplotlib inline\n",
    "plt.figure()\n",
    "lost.r1_gold.plot(kind='hist')"
   ]
  },
  {
   "cell_type": "code",
   "execution_count": 6,
   "metadata": {},
   "outputs": [
    {
     "name": "stdout",
     "output_type": "stream",
     "text": [
      "['start_time', 'lobby_type', 'r1_hero', 'r1_level', 'r1_xp', 'r1_gold', 'r1_lh', 'r1_kills', 'r1_deaths', 'r1_items', 'r2_hero', 'r2_level', 'r2_xp', 'r2_gold', 'r2_lh', 'r2_kills', 'r2_deaths', 'r2_items', 'r3_hero', 'r3_level', 'r3_xp', 'r3_gold', 'r3_lh', 'r3_kills', 'r3_deaths', 'r3_items', 'r4_hero', 'r4_level', 'r4_xp', 'r4_gold', 'r4_lh', 'r4_kills', 'r4_deaths', 'r4_items', 'r5_hero', 'r5_level', 'r5_xp', 'r5_gold', 'r5_lh', 'r5_kills', 'r5_deaths', 'r5_items', 'd1_hero', 'd1_level', 'd1_xp', 'd1_gold', 'd1_lh', 'd1_kills', 'd1_deaths', 'd1_items', 'd2_hero', 'd2_level', 'd2_xp', 'd2_gold', 'd2_lh', 'd2_kills', 'd2_deaths', 'd2_items', 'd3_hero', 'd3_level', 'd3_xp', 'd3_gold', 'd3_lh', 'd3_kills', 'd3_deaths', 'd3_items', 'd4_hero', 'd4_level', 'd4_xp', 'd4_gold', 'd4_lh', 'd4_kills', 'd4_deaths', 'd4_items', 'd5_hero', 'd5_level', 'd5_xp', 'd5_gold', 'd5_lh', 'd5_kills', 'd5_deaths', 'd5_items', 'first_blood_time', 'first_blood_team', 'first_blood_player1', 'first_blood_player2', 'radiant_bottle_time', 'radiant_courier_time', 'radiant_flying_courier_time', 'radiant_tpscroll_count', 'radiant_boots_count', 'radiant_ward_observer_count', 'radiant_ward_sentry_count', 'radiant_first_ward_time', 'dire_bottle_time', 'dire_courier_time', 'dire_flying_courier_time', 'dire_tpscroll_count', 'dire_boots_count', 'dire_ward_observer_count', 'dire_ward_sentry_count', 'dire_first_ward_time', 'radiant_win']\n"
     ]
    }
   ],
   "source": [
    "print(list(features.columns.values))\n"
   ]
  },
  {
   "cell_type": "code",
   "execution_count": null,
   "metadata": {
    "collapsed": true
   },
   "outputs": [],
   "source": []
  }
 ],
 "metadata": {
  "kernelspec": {
   "display_name": "Python 3",
   "language": "python",
   "name": "python3"
  },
  "language_info": {
   "codemirror_mode": {
    "name": "ipython",
    "version": 3
   },
   "file_extension": ".py",
   "mimetype": "text/x-python",
   "name": "python",
   "nbconvert_exporter": "python",
   "pygments_lexer": "ipython3",
   "version": "3.6.1"
  }
 },
 "nbformat": 4,
 "nbformat_minor": 2
}
