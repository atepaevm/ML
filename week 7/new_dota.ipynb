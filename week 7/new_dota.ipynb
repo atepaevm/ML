{
 "cells": [
  {
   "cell_type": "code",
   "execution_count": 11,
   "metadata": {
    "scrolled": true
   },
   "outputs": [
    {
     "name": "stdout",
     "output_type": "stream",
     "text": [
      "first_blood_time  omits  19553  values;\n",
      "first_blood_team  omits  19553  values;\n",
      "first_blood_player1  omits  19553  values;\n",
      "first_blood_player2  omits  43987  values;\n",
      "radiant_bottle_time  omits  15691  values;\n",
      "radiant_courier_time  omits  692  values;\n",
      "radiant_flying_courier_time  omits  27479  values;\n",
      "radiant_first_ward_time  omits  1836  values;\n",
      "dire_bottle_time  omits  16143  values;\n",
      "dire_courier_time  omits  676  values;\n",
      "dire_flying_courier_time  omits  26098  values;\n",
      "dire_first_ward_time  omits  1826  values;\n"
     ]
    }
   ],
   "source": [
    "#'''\n",
    "import time\n",
    "import datetime\n",
    "from sklearn.metrics import accuracy_score\n",
    "from sklearn.ensemble import GradientBoostingClassifier\n",
    "from sklearn.metrics import roc_auc_score\n",
    "import numpy as np\n",
    "from sklearn.model_selection import KFold\n",
    "import pandas\n",
    "\n",
    "#feature import\n",
    "features = pandas.read_csv('./features.csv', index_col='match_id')\n",
    "\n",
    "#check null values\n",
    "for column_name in list(features.columns.values):\n",
    "    if(features[column_name].count()!=features.shape[0]):\n",
    "        print(column_name,' omits ',features.shape[0]-features[column_name].count(),' values;')\n",
    "\n",
    "#OK, set NaN as zero\n",
    "features.fillna(9999999,inplace=True)\n",
    "#save target column\n",
    "y=features.radiant_win\n",
    "\n",
    "#drop dishonest data\n",
    "features=features.drop(['duration','radiant_win','tower_status_radiant',\n",
    "               'tower_status_dire','barracks_status_radiant','barracks_status_dire'],axis=1)\n",
    "for column_name in list(features.columns.values):\n",
    "    if(features[column_name].count()!=features.shape[0]):\n",
    "        print(column_name,' omits ',features.shape[0]-features[column_name].count(),' values;')\n",
    "#'''\n",
    "clf=GradientBoostingClassifier(n_estimators=180, random_state=42,max_depth=7)\n",
    "clf.fit(features,y)\n",
    "\n",
    "#feature import\n",
    "test = pandas.read_csv('./features_test.csv', index_col='match_id')\n",
    "\n",
    "#OK, set NaN as zero\n",
    "test.fillna(9999999,inplace=True)\n",
    "\n",
    "pred=clf.predict_proba(test)[:,1]\n",
    "match_id=pandas.read_csv('./features_test.csv')['match_id']\n",
    "total=[]\n",
    "total.append([\"match_id\",\"radiant_win\"])\n",
    "for i in range(0,len(match_id)):\n",
    "    total.append([match_id[i],pred[i]])\n",
    "import csv\n",
    "with open('res.csv', 'w', newline='') as csvfile:\n",
    "    spamwriter = csv.writer(csvfile, delimiter=',',\n",
    "                            quotechar='|', quoting=csv.QUOTE_MINIMAL)\n",
    "    spamwriter.writerows(total)"
   ]
  },
  {
   "cell_type": "code",
   "execution_count": 72,
   "metadata": {},
   "outputs": [
    {
     "data": {
      "text/plain": [
       "GradientBoostingClassifier(criterion='friedman_mse', init=None,\n",
       "              learning_rate=0.1, loss='deviance', max_depth=3,\n",
       "              max_features=None, max_leaf_nodes=None,\n",
       "              min_impurity_split=1e-07, min_samples_leaf=1,\n",
       "              min_samples_split=2, min_weight_fraction_leaf=0.0,\n",
       "              n_estimators=180, presort='auto', random_state=42,\n",
       "              subsample=1.0, verbose=0, warm_start=False)"
      ]
     },
     "execution_count": 72,
     "metadata": {},
     "output_type": "execute_result"
    }
   ],
   "source": [
    "'''\n",
    "first_blood_time  omits  19553  values;\n",
    "first_blood_team  omits  19553  values;\n",
    "first_blood_player1  omits  19553  values;\n",
    "first_blood_player2  omits  43987  values;\n",
    "radiant_bottle_time  omits  15691  values;\n",
    "radiant_courier_time  omits  692  values;\n",
    "radiant_flying_courier_time  omits  27479  values;\n",
    "radiant_first_ward_time  omits  1836  values;\n",
    "dire_bottle_time  omits  16143  values;\n",
    "dire_courier_time  omits  676  values;\n",
    "dire_flying_courier_time  omits  26098  values;\n",
    "dire_first_ward_time  omits  1826  values;\n",
    "'''\n"
   ]
  },
  {
   "cell_type": "code",
   "execution_count": null,
   "metadata": {},
   "outputs": [],
   "source": []
  },
  {
   "cell_type": "code",
   "execution_count": 4,
   "metadata": {},
   "outputs": [],
   "source": [
    "import json\n",
    "import bz2\n",
    "with bz2.BZ2File('./matches_test.jsonlines.bz2') as matches_file:\n",
    "        for line in matches_file:\n",
    "            match = json.loads(line)\n"
   ]
  },
  {
   "cell_type": "code",
   "execution_count": 22,
   "metadata": {
    "collapsed": true
   },
   "outputs": [],
   "source": [
    "def getMetrics(n):\n",
    "    auc_roc=0;\n",
    "    kf=KFold(n_splits=5,shuffle=True,random_state=42)\n",
    "    clf=GradientBoostingClassifier(n_estimators=150, random_state=42,max_depth=n)\n",
    "    for train,test in kf.split(features,y):\n",
    "        clf.fit(features.iloc[train],y.iloc[train])\n",
    "        pred=clf.predict(features.iloc[test])\n",
    "        pred=clf.predict_proba(features.iloc[test])[:,1]\n",
    "        #print(accuracy_score(y.iloc[test],pred))\n",
    "        auc_roc+=roc_auc_score(y.iloc[test],pred)\n",
    "    return auc_roc/5;"
   ]
  },
  {
   "cell_type": "code",
   "execution_count": 28,
   "metadata": {},
   "outputs": [
    {
     "name": "stdout",
     "output_type": "stream",
     "text": [
      "2\n"
     ]
    }
   ],
   "source": [
    "print(len(match['players'][5]['kills_log'])\n",
    "      +len(match['players'][6]['kills_log'])\n",
    "      +len(match['players'][7]['kills_log'])\n",
    "      +len(match['players'][8]['kills_log'])\n",
    "      +len(match['players'][9]['kills_log']))\n"
   ]
  },
  {
   "cell_type": "code",
   "execution_count": 14,
   "metadata": {},
   "outputs": [
    {
     "ename": "NameError",
     "evalue": "name 'test' is not defined",
     "output_type": "error",
     "traceback": [
      "\u001b[1;31m---------------------------------------------------------------------------\u001b[0m",
      "\u001b[1;31mNameError\u001b[0m                                 Traceback (most recent call last)",
      "\u001b[1;32m<ipython-input-14-a552ab4083eb>\u001b[0m in \u001b[0;36m<module>\u001b[1;34m()\u001b[0m\n\u001b[1;32m----> 1\u001b[1;33m \u001b[0mtest\u001b[0m\u001b[1;33m.\u001b[0m\u001b[0mloc\u001b[0m\u001b[1;33m[\u001b[0m\u001b[0mtest\u001b[0m\u001b[1;33m[\u001b[0m\u001b[1;34m'match_id'\u001b[0m\u001b[1;33m]\u001b[0m \u001b[1;33m==\u001b[0m \u001b[1;36m112916\u001b[0m\u001b[1;33m]\u001b[0m\u001b[1;33m\u001b[0m\u001b[0m\n\u001b[0m",
      "\u001b[1;31mNameError\u001b[0m: name 'test' is not defined"
     ]
    }
   ],
   "source": [
    "test.loc[test['match_id'] == 112916]"
   ]
  },
  {
   "cell_type": "code",
   "execution_count": 67,
   "metadata": {},
   "outputs": [
    {
     "data": {
      "text/plain": [
       "17177"
      ]
     },
     "execution_count": 67,
     "metadata": {},
     "output_type": "execute_result"
    }
   ],
   "source": [
    "\n",
    "\n"
   ]
  },
  {
   "cell_type": "code",
   "execution_count": 68,
   "metadata": {},
   "outputs": [
    {
     "data": {
      "text/plain": [
       "17178"
      ]
     },
     "execution_count": 68,
     "metadata": {},
     "output_type": "execute_result"
    }
   ],
   "source": []
  },
  {
   "cell_type": "code",
   "execution_count": null,
   "metadata": {
    "collapsed": true
   },
   "outputs": [],
   "source": []
  }
 ],
 "metadata": {
  "kernelspec": {
   "display_name": "Python 3",
   "language": "python",
   "name": "python3"
  },
  "language_info": {
   "codemirror_mode": {
    "name": "ipython",
    "version": 3
   },
   "file_extension": ".py",
   "mimetype": "text/x-python",
   "name": "python",
   "nbconvert_exporter": "python",
   "pygments_lexer": "ipython3",
   "version": "3.6.1"
  }
 },
 "nbformat": 4,
 "nbformat_minor": 2
}
