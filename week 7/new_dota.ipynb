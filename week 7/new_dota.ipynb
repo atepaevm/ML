{
 "cells": [
  {
   "cell_type": "code",
   "execution_count": 11,
   "metadata": {
    "scrolled": true
   },
   "outputs": [
    {
     "name": "stdout",
     "output_type": "stream",
     "text": [
      "first_blood_time  omits  19553  values;\n",
      "first_blood_team  omits  19553  values;\n",
      "first_blood_player1  omits  19553  values;\n",
      "first_blood_player2  omits  43987  values;\n",
      "radiant_bottle_time  omits  15691  values;\n",
      "radiant_courier_time  omits  692  values;\n",
      "radiant_flying_courier_time  omits  27479  values;\n",
      "radiant_first_ward_time  omits  1836  values;\n",
      "dire_bottle_time  omits  16143  values;\n",
      "dire_courier_time  omits  676  values;\n",
      "dire_flying_courier_time  omits  26098  values;\n",
      "dire_first_ward_time  omits  1826  values;\n"
     ]
    }
   ],
   "source": [
    "#'''\n",
    "import time\n",
    "import datetime\n",
    "from sklearn.metrics import accuracy_score\n",
    "from sklearn.ensemble import GradientBoostingClassifier\n",
    "from sklearn.metrics import roc_auc_score\n",
    "import numpy as np\n",
    "from sklearn.model_selection import KFold\n",
    "import pandas\n",
    "\n",
    "#feature import\n",
    "features = pandas.read_csv('./features.csv', index_col='match_id')\n",
    "\n",
    "#check null values\n",
    "for column_name in list(features.columns.values):\n",
    "    if(features[column_name].count()!=features.shape[0]):\n",
    "        print(column_name,' omits ',features.shape[0]-features[column_name].count(),' values;')\n",
    "\n",
    "#OK, set NaN as zero\n",
    "features.fillna(9999999,inplace=True)\n",
    "#save target column\n",
    "y=features.radiant_win\n",
    "\n",
    "#drop dishonest data\n",
    "features=features.drop(['duration','radiant_win','tower_status_radiant',\n",
    "               'tower_status_dire','barracks_status_radiant','barracks_status_dire'],axis=1)\n",
    "for column_name in list(features.columns.values):\n",
    "    if(features[column_name].count()!=features.shape[0]):\n",
    "        print(column_name,' omits ',features.shape[0]-features[column_name].count(),' values;')\n",
    "#'''\n",
    "clf=GradientBoostingClassifier(n_estimators=180, random_state=42,max_depth=7)\n",
    "clf.fit(features,y)\n",
    "\n",
    "#feature import\n",
    "test = pandas.read_csv('./features_test.csv', index_col='match_id')\n",
    "\n",
    "#OK, set NaN as zero\n",
    "test.fillna(9999999,inplace=True)\n",
    "\n",
    "pred=clf.predict_proba(test)[:,1]\n",
    "match_id=pandas.read_csv('./features_test.csv')['match_id']\n",
    "total=[]\n",
    "total.append([\"match_id\",\"radiant_win\"])\n",
    "for i in range(0,len(match_id)):\n",
    "    total.append([match_id[i],pred[i]])\n",
    "import csv\n",
    "with open('res.csv', 'w', newline='') as csvfile:\n",
    "    spamwriter = csv.writer(csvfile, delimiter=',',\n",
    "                            quotechar='|', quoting=csv.QUOTE_MINIMAL)\n",
    "    spamwriter.writerows(total)"
   ]
  },
  {
   "cell_type": "code",
   "execution_count": 72,
   "metadata": {},
   "outputs": [
    {
     "data": {
      "text/plain": [
       "GradientBoostingClassifier(criterion='friedman_mse', init=None,\n",
       "              learning_rate=0.1, loss='deviance', max_depth=3,\n",
       "              max_features=None, max_leaf_nodes=None,\n",
       "              min_impurity_split=1e-07, min_samples_leaf=1,\n",
       "              min_samples_split=2, min_weight_fraction_leaf=0.0,\n",
       "              n_estimators=180, presort='auto', random_state=42,\n",
       "              subsample=1.0, verbose=0, warm_start=False)"
      ]
     },
     "execution_count": 72,
     "metadata": {},
     "output_type": "execute_result"
    }
   ],
   "source": [
    "'''\n",
    "first_blood_time  omits  19553  values;\n",
    "first_blood_team  omits  19553  values;\n",
    "first_blood_player1  omits  19553  values;\n",
    "first_blood_player2  omits  43987  values;\n",
    "radiant_bottle_time  omits  15691  values;\n",
    "radiant_courier_time  omits  692  values;\n",
    "radiant_flying_courier_time  omits  27479  values;\n",
    "radiant_first_ward_time  omits  1836  values;\n",
    "dire_bottle_time  omits  16143  values;\n",
    "dire_courier_time  omits  676  values;\n",
    "dire_flying_courier_time  omits  26098  values;\n",
    "dire_first_ward_time  omits  1826  values;\n",
    "'''\n"
   ]
  },
  {
   "cell_type": "code",
   "execution_count": 25,
   "metadata": {},
   "outputs": [
    {
     "data": {
      "text/plain": [
       "array([ 0.57069066,  0.70463901,  0.53264446,  0.84914423,  0.19651344,\n",
       "        0.49388346,  0.68233251,  0.68031774,  0.21173775,  0.32830798,\n",
       "        0.20054364,  0.55747742,  0.30494209,  0.83224105,  0.63296443,\n",
       "        0.33977745,  0.2354027 ,  0.51154258,  0.14013429,  0.42248308,\n",
       "        0.82366038,  0.91765498,  0.71666666,  0.92333527,  0.67992461,\n",
       "        0.78793139,  0.76429841,  0.11913843,  0.07391727,  0.70412239,\n",
       "        0.52791626,  0.71102808,  0.50721484,  0.6446354 ,  0.5010563 ,\n",
       "        0.70717744,  0.6880992 ,  0.58379484,  0.57175424,  0.10328307,\n",
       "        0.05893419,  0.62591574,  0.55029   ,  0.13154184,  0.56747202,\n",
       "        0.82026428,  0.17356641,  0.42471874])"
      ]
     },
     "execution_count": 25,
     "metadata": {},
     "output_type": "execute_result"
    }
   ],
   "source": [
    "pred[:48]"
   ]
  },
  {
   "cell_type": "code",
   "execution_count": 16,
   "metadata": {},
   "outputs": [
    {
     "data": {
      "text/plain": [
       "0             6\n",
       "1             7\n",
       "2            10\n",
       "3            13\n",
       "4            16\n",
       "5            18\n",
       "6            19\n",
       "7            24\n",
       "8            33\n",
       "9            37\n",
       "10           41\n",
       "11           42\n",
       "12           55\n",
       "13           60\n",
       "14           62\n",
       "15           63\n",
       "16           64\n",
       "17           71\n",
       "18           72\n",
       "19           83\n",
       "20           85\n",
       "21           89\n",
       "22           92\n",
       "23          100\n",
       "24          102\n",
       "25          108\n",
       "26          111\n",
       "27          126\n",
       "28          130\n",
       "29          140\n",
       "          ...  \n",
       "17147    114165\n",
       "17148    114168\n",
       "17149    114171\n",
       "17150    114183\n",
       "17151    114188\n",
       "17152    114192\n",
       "17153    114195\n",
       "17154    114202\n",
       "17155    114209\n",
       "17156    114211\n",
       "17157    114217\n",
       "17158    114232\n",
       "17159    114236\n",
       "17160    114238\n",
       "17161    114242\n",
       "17162    114247\n",
       "17163    114285\n",
       "17164    114286\n",
       "17165    114314\n",
       "17166    114327\n",
       "17167    114330\n",
       "17168    114337\n",
       "17169    114348\n",
       "17170    114349\n",
       "17171    114361\n",
       "17172    114369\n",
       "17173    114377\n",
       "17174    114378\n",
       "17175    114393\n",
       "17176    114398\n",
       "Name: match_id, Length: 17177, dtype: int64"
      ]
     },
     "execution_count": 16,
     "metadata": {},
     "output_type": "execute_result"
    }
   ],
   "source": [
    "match_id"
   ]
  },
  {
   "cell_type": "code",
   "execution_count": 22,
   "metadata": {
    "collapsed": true
   },
   "outputs": [],
   "source": [
    "def getMetrics(n):\n",
    "    auc_roc=0;\n",
    "    kf=KFold(n_splits=5,shuffle=True,random_state=42)\n",
    "    clf=GradientBoostingClassifier(n_estimators=150, random_state=42,max_depth=n)\n",
    "    for train,test in kf.split(features,y):\n",
    "        clf.fit(features.iloc[train],y.iloc[train])\n",
    "        pred=clf.predict(features.iloc[test])\n",
    "        pred=clf.predict_proba(features.iloc[test])[:,1]\n",
    "        #print(accuracy_score(y.iloc[test],pred))\n",
    "        auc_roc+=roc_auc_score(y.iloc[test],pred)\n",
    "    return auc_roc/5;"
   ]
  },
  {
   "cell_type": "code",
   "execution_count": 18,
   "metadata": {
    "collapsed": true
   },
   "outputs": [],
   "source": []
  },
  {
   "cell_type": "code",
   "execution_count": 63,
   "metadata": {
    "collapsed": true
   },
   "outputs": [],
   "source": []
  },
  {
   "cell_type": "code",
   "execution_count": 67,
   "metadata": {},
   "outputs": [
    {
     "data": {
      "text/plain": [
       "17177"
      ]
     },
     "execution_count": 67,
     "metadata": {},
     "output_type": "execute_result"
    }
   ],
   "source": [
    "\n",
    "\n"
   ]
  },
  {
   "cell_type": "code",
   "execution_count": 68,
   "metadata": {},
   "outputs": [
    {
     "data": {
      "text/plain": [
       "17178"
      ]
     },
     "execution_count": 68,
     "metadata": {},
     "output_type": "execute_result"
    }
   ],
   "source": []
  },
  {
   "cell_type": "code",
   "execution_count": null,
   "metadata": {
    "collapsed": true
   },
   "outputs": [],
   "source": []
  }
 ],
 "metadata": {
  "kernelspec": {
   "display_name": "Python 3",
   "language": "python",
   "name": "python3"
  },
  "language_info": {
   "codemirror_mode": {
    "name": "ipython",
    "version": 3
   },
   "file_extension": ".py",
   "mimetype": "text/x-python",
   "name": "python",
   "nbconvert_exporter": "python",
   "pygments_lexer": "ipython3",
   "version": "3.6.1"
  }
 },
 "nbformat": 4,
 "nbformat_minor": 2
}
