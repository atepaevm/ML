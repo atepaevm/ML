{
 "cells": [
  {
   "cell_type": "code",
   "execution_count": 1,
   "metadata": {
    "scrolled": true
   },
   "outputs": [
    {
     "name": "stdout",
     "output_type": "stream",
     "text": [
      "first_blood_time  omits  19553  values;\n",
      "first_blood_team  omits  19553  values;\n",
      "first_blood_player1  omits  19553  values;\n",
      "first_blood_player2  omits  43987  values;\n",
      "radiant_bottle_time  omits  15691  values;\n",
      "radiant_courier_time  omits  692  values;\n",
      "radiant_flying_courier_time  omits  27479  values;\n",
      "radiant_first_ward_time  omits  1836  values;\n",
      "dire_bottle_time  omits  16143  values;\n",
      "dire_courier_time  omits  676  values;\n",
      "dire_flying_courier_time  omits  26098  values;\n",
      "dire_first_ward_time  omits  1826  values;\n"
     ]
    }
   ],
   "source": [
    "'''\n",
    "Добрый день, дорогой участник курса!\n",
    "Должно быть, ты читаешь эти строки, чтобы твою работу поскорей проверили.\n",
    "Запускай окошки последовательно в директории с данными - и будет тебе счастье.\n",
    "Функции, инкапсулирующие в себе обучение, кросс-валидацию и подсчёт метрики\n",
    "'''\n",
    "def getBoostMetrics(X,y,n):\n",
    "    auc_roc=0;\n",
    "    kf=KFold(n_splits=5,shuffle=True,random_state=42)\n",
    "    clf=GradientBoostingClassifier(n_estimators=n, random_state=42)\n",
    "    for train,test in kf.split(X,y):\n",
    "        clf.fit(X.iloc[train],y.iloc[train])\n",
    "        pred=clf.predict_proba(X.iloc[test])[:,1]\n",
    "        auc_roc+=roc_auc_score(y.iloc[test],pred)\n",
    "    return auc_roc/5;\n",
    "#То же самое, но логистическая регрессия\n",
    "def getLogMetrics(X,y,n):\n",
    "    auc_roc=0;\n",
    "    kf=KFold(n_splits=5,shuffle=True,random_state=42)\n",
    "    clf=LogisticRegression(C=n,penalty='l2')\n",
    "    for train,test in kf.split(X,y):\n",
    "        clf.fit(X.iloc[train],y.iloc[train])\n",
    "        pred=clf.predict_proba(X.iloc[test])[:,1]\n",
    "        auc_roc+=roc_auc_score(y.iloc[test],pred)\n",
    "    return auc_roc/5;\n",
    "#импортируем всё, что нужно для счастья\n",
    "import time\n",
    "import datetime\n",
    "from sklearn.metrics import accuracy_score\n",
    "from sklearn.ensemble import GradientBoostingClassifier\n",
    "from sklearn.metrics import roc_auc_score\n",
    "import numpy as np\n",
    "from sklearn.model_selection import KFold\n",
    "from sklearn.linear_model import LogisticRegression\n",
    "from sklearn.preprocessing import StandardScaler\n",
    "from sklearn.neural_network import MLPClassifier\n",
    "import pandas\n",
    "\n",
    "#извлекаем признаки\n",
    "features = pandas.read_csv('./features.csv', index_col='match_id')\n",
    "#сохраним целевую переменную - победила или нет команда radiant\n",
    "y=features.radiant_win\n",
    "\n",
    "#Удалим всё, что не относится к первым пяти минутам\n",
    "features=features.drop(['duration','radiant_win','tower_status_radiant',\n",
    "               'tower_status_dire','barracks_status_radiant','barracks_status_dire'],axis=1)\n",
    "\n",
    "#features=features.drop(['duration','tower_status_radiant',\n",
    "#                        'tower_status_dire','barracks_status_radiant','barracks_status_dire'],axis=1)\n",
    "\n",
    "\n",
    "#Проверяем наличие NaN значений. Если они есть, выведем информацию об этом\n",
    "# list(df.columns.values) - список имён колонок \n",
    "for column_name in list(features.columns.values):\n",
    "    if(features[column_name].count()!=features.shape[0]):\n",
    "        print(column_name,' omits ',features.shape[0]-features[column_name].count(),' values;')\n"
   ]
  },
  {
   "cell_type": "code",
   "execution_count": 3,
   "metadata": {},
   "outputs": [
    {
     "name": "stdout",
     "output_type": "stream",
     "text": [
      "tree count:  5  roc_auc:  0.635357433114 time: 0:00:55.910201\n",
      "tree count:  10  roc_auc:  0.664850687975 time: 0:01:37.490449\n",
      "tree count:  20  roc_auc:  0.682461876804 time: 0:04:35.353682\n",
      "tree count:  30  roc_auc:  0.690006471039 time: 0:04:54.309742\n",
      "tree count:  40  roc_auc:  0.694038724512 time: 0:04:57.449679\n"
     ]
    }
   ],
   "source": [
    "'''\n",
    "Вывод после запуска окошка выше\n",
    "first_blood_time  omits  19553  values;\n",
    "first_blood_team  omits  19553  values;\n",
    "first_blood_player1  omits  19553  values;\n",
    "first_blood_player2  omits  43987  values;\n",
    "radiant_bottle_time  omits  15691  values;\n",
    "radiant_courier_time  omits  692  values;\n",
    "radiant_flying_courier_time  omits  27479  values;\n",
    "radiant_first_ward_time  omits  1836  values;\n",
    "dire_bottle_time  omits  16143  values;\n",
    "dire_courier_time  omits  676  values;\n",
    "dire_flying_courier_time  omits  26098  values;\n",
    "dire_first_ward_time  omits  1826  values;\n",
    "\n",
    "Ого, NaN значений действительно много! Для first_blood_player1 и first_blood_player2 можно сказать,\n",
    "что событие не всегда успевает случиться за первую пятиминутку.\n",
    "\n",
    "'''\n",
    "\n",
    "\n",
    "\n",
    "#С NaN разобрались, заполним значение нулями. Кстати, заполнение большой величиной позволило повысить качество\n",
    "#примерно на 0.2%. Пустячок, а приятно\n",
    "features.fillna(0,inplace=True)\n",
    "\n",
    "#Почти всё готово для предсказания, прогоним GradientBoostingClassifier со значениями 5, 10, 20, 30, 40\n",
    "\n",
    "\n",
    "results=[]\n",
    "times=[]\n",
    "n_list=[5,10,20,30,40]\n",
    "for n in n_list:\n",
    "    start_time = datetime.datetime.now()\n",
    "    results.append(getBoostMetrics(features,y,n))\n",
    "    times.append(datetime.datetime.now() - start_time)\n",
    "    print('tree count: ',n,' roc_auc: ',results[-1],'time:',times[-1])\n",
    "    "
   ]
  },
  {
   "cell_type": "code",
   "execution_count": 4,
   "metadata": {},
   "outputs": [
    {
     "data": {
      "text/plain": [
       "'\\nВидно, что увеличение количества деревьев приносит результат, но чем дальше, тем меньше.\\nБудет полезнее улучшать данные.\\nКраткий отчёт в одном месте:\\n1. \\nfirst_blood_time  omits  19553  values;\\nfirst_blood_team  omits  19553  values;\\nfirst_blood_player1  omits  19553  values;\\nfirst_blood_player2  omits  43987  values;\\nradiant_bottle_time  omits  15691  values;\\nradiant_courier_time  omits  692  values;\\nradiant_flying_courier_time  omits  27479  values;\\nradiant_first_ward_time  omits  1836  values;\\ndire_bottle_time  omits  16143  values;\\ndire_courier_time  omits  676  values;\\ndire_flying_courier_time  omits  26098  values;\\ndire_first_ward_time  omits  1826  values;\\nДля first_blood_player1 и first_blood_player2 можно сказать,\\nчто данные достаточно редкие, видимо, не всегда случаются на первых пяти минутах\\n2. \\nradiant_win\\n3. \\n74.91 секунды\\n4. \\nКачество растёт, но чем больше деревьев, тем медленнее.\\nНужно улучшать предварительную обработку данных. Для ускорения обучения можно использовать\\nне всю выборку, а лишь некоторое случайное подмножество или уменьшить глубину деревьев\\n\\n'"
      ]
     },
     "execution_count": 4,
     "metadata": {},
     "output_type": "execute_result"
    },
    {
     "data": {
      "image/png": "[encoded data removed]",
      "text/plain": [
       "<matplotlib.figure.Figure at 0x5ca5c9bef0>"
      ]
     },
     "metadata": {},
     "output_type": "display_data"
    }
   ],
   "source": [
    "'''\n",
    "У меня получились следующие результаты:\n",
    "\n",
    "tree count:  5  roc_auc:  0.635357433114 time: 0:00:15.376037\n",
    "tree count:  10  roc_auc:  0.664850687975 time: 0:00:26.363707\n",
    "tree count:  20  roc_auc:  0.682461876804 time: 0:00:52.652367\n",
    "tree count:  30  roc_auc:  0.690006471039 time: 0:01:14.910629\n",
    "tree count:  40  roc_auc:  0.694038724512 time: 0:01:34.234331\n",
    "'''\n",
    "\n",
    "import matplotlib.pyplot as plt\n",
    "%matplotlib inline\n",
    "plt.figure()\n",
    "plt.plot(n_list,results)\n",
    "'''\n",
    "Видно, что увеличение количества деревьев приносит результат, но чем дальше, тем меньше.\n",
    "Будет полезнее улучшать данные.\n",
    "Краткий отчёт в одном месте:\n",
    "1. \n",
    "first_blood_time  omits  19553  values;\n",
    "first_blood_team  omits  19553  values;\n",
    "first_blood_player1  omits  19553  values;\n",
    "first_blood_player2  omits  43987  values;\n",
    "radiant_bottle_time  omits  15691  values;\n",
    "radiant_courier_time  omits  692  values;\n",
    "radiant_flying_courier_time  omits  27479  values;\n",
    "radiant_first_ward_time  omits  1836  values;\n",
    "dire_bottle_time  omits  16143  values;\n",
    "dire_courier_time  omits  676  values;\n",
    "dire_flying_courier_time  omits  26098  values;\n",
    "dire_first_ward_time  omits  1826  values;\n",
    "Для first_blood_player1 и first_blood_player2 можно сказать,\n",
    "что данные достаточно редкие, видимо, не всегда случаются на первых пяти минутах\n",
    "2. \n",
    "radiant_win\n",
    "3. \n",
    "74.91 секунды, 69%\n",
    "4. \n",
    "Качество растёт, но чем больше деревьев, тем медленнее.\n",
    "Нужно улучшать предварительную обработку данных. Для ускорения обучения можно использовать\n",
    "не всю выборку, а лишь некоторое случайное подмножество или уменьшить глубину деревьев\n",
    "\n",
    "'''"
   ]
  },
  {
   "cell_type": "code",
   "execution_count": 5,
   "metadata": {},
   "outputs": [
    {
     "name": "stdout",
     "output_type": "stream",
     "text": [
      "С:  1e-05  roc_auc:  0.695161685464 time: 0:00:09.438223\n",
      "С:  0.0001  roc_auc:  0.711357747143 time: 0:00:15.071492\n",
      "С:  0.001  roc_auc:  0.716363537821 time: 0:00:24.872540\n",
      "С:  0.01  roc_auc:  0.716550269726 time: 0:00:31.852915\n",
      "С:  0.1  roc_auc:  0.716527148666 time: 0:00:35.799101\n",
      "С:  1  roc_auc:  0.716522600363 time: 0:00:38.024424\n",
      "С:  10  roc_auc:  0.716522288896 time: 0:00:36.857185\n",
      "С:  100  roc_auc:  0.716522295258 time: 0:00:37.268179\n",
      "С:  1000  roc_auc:  0.716522322796 time: 0:00:36.791576\n",
      "С:  10000  roc_auc:  0.716522327033 time: 0:00:33.020474\n",
      "С:  100000  roc_auc:  0.716522331269 time: 0:00:34.386450\n"
     ]
    }
   ],
   "source": [
    "'''\n",
    "Время логистической регрессии! Данные у нас уже получены и обработаны, можно сразу учить\n",
    "'''\n",
    "#Для логистической регрессии важно масштабировать признаки\n",
    "scaler=StandardScaler()\n",
    "features=pandas.DataFrame(scaler.fit_transform(features))\n",
    "results=[]\n",
    "times=[]\n",
    "c_list=[0.00001,0.0001,0.001,0.01,0.1,1,10,100,1000,10000,100000]\n",
    "for c in c_list:\n",
    "    start_time = datetime.datetime.now()\n",
    "    results.append(getLogMetrics(features, y, c))\n",
    "    times.append(datetime.datetime.now() - start_time)\n",
    "    print('С: ',c,' roc_auc: ',results[-1],'time:',times[-1])"
   ]
  },
  {
   "cell_type": "code",
   "execution_count": 6,
   "metadata": {},
   "outputs": [
    {
     "data": {
      "text/plain": [
       "[<matplotlib.lines.Line2D at 0x5ca65e02b0>]"
      ]
     },
     "execution_count": 6,
     "metadata": {},
     "output_type": "execute_result"
    },
    {
     "data": {
      "image/png": "[encoded data removed]",
      "text/plain": [
       "<matplotlib.figure.Figure at 0x5ca5cc19b0>"
      ]
     },
     "metadata": {},
     "output_type": "display_data"
    }
   ],
   "source": [
    "'''\n",
    "Как видим, значения примерно равны градинетному бустингу:\n",
    "С:  1e-05  roc_auc:  0.695161685464 time: 0:00:04.528259\n",
    "С:  0.0001  roc_auc:  0.711357747143 time: 0:00:06.992400\n",
    "С:  0.001  roc_auc:  0.716363537821 time: 0:00:13.015744\n",
    "С:  0.01  roc_auc:  0.716550269726 time: 0:00:16.408939\n",
    "С:  0.1  roc_auc:  0.716527148666 time: 0:00:18.282045\n",
    "С:  1  roc_auc:  0.716522600363 time: 0:00:19.038089\n",
    "С:  10  roc_auc:  0.716522288896 time: 0:00:18.819077\n",
    "С:  100  roc_auc:  0.716522295258 time: 0:00:18.376051\n",
    "С:  1000  roc_auc:  0.716522322796 time: 0:00:18.390052\n",
    "С:  10000  roc_auc:  0.716522327033 time: 0:00:18.682068\n",
    "С:  100000  roc_auc:  0.716522331269 time: 0:00:19.271102\n",
    "'''\n",
    "import matplotlib.pyplot as plt\n",
    "%matplotlib inline\n",
    "plt.figure()\n",
    "plt.plot(np.log10(c_list),results)\n"
   ]
  },
  {
   "cell_type": "code",
   "execution_count": 7,
   "metadata": {},
   "outputs": [
    {
     "name": "stdout",
     "output_type": "stream",
     "text": [
      "С:  1e-05  roc_auc:  0.695100191344 time: 0:00:09.223193\n",
      "С:  0.0001  roc_auc:  0.711339145863 time: 0:00:13.765448\n",
      "С:  0.001  roc_auc:  0.716375799908 time: 0:00:26.345183\n",
      "С:  0.01  roc_auc:  0.716559388563 time: 0:00:31.599393\n",
      "С:  0.1  roc_auc:  0.716534240347 time: 0:00:36.399795\n",
      "С:  1  roc_auc:  0.716530363451 time: 0:00:35.401137\n",
      "С:  10  roc_auc:  0.716529971503 time: 0:00:35.626276\n",
      "С:  100  roc_auc:  0.716529891006 time: 0:00:34.913639\n",
      "С:  1000  roc_auc:  0.716529888885 time: 0:00:33.186303\n",
      "С:  10000  roc_auc:  0.71652988465 time: 0:00:31.346220\n",
      "С:  100000  roc_auc:  0.71652988465 time: 0:00:33.306603\n"
     ]
    }
   ],
   "source": [
    "'''\n",
    "Удалим 11 категориальных признаков, обучим вновь\n",
    "'''\n",
    "\n",
    "\n",
    "features = pandas.read_csv('./features.csv', index_col='match_id')\n",
    "y=features.radiant_win\n",
    "features=features.drop(['duration','radiant_win','tower_status_radiant',\n",
    "               'tower_status_dire','barracks_status_radiant','barracks_status_dire',\n",
    "                       'lobby_type','r1_hero','r2_hero','r3_hero','r4_hero',\n",
    "                        'r5_hero','d1_hero','d2_hero','d3_hero','d4_hero','d5_hero'],axis=1)\n",
    "features.fillna(0,inplace=True)\n",
    "features=pandas.DataFrame(scaler.fit_transform(features))\n",
    "results=[]\n",
    "times=[]\n",
    "c_list=[0.00001,0.0001,0.001,0.01,0.1,1,10,100,1000,10000,100000]\n",
    "for c in c_list:\n",
    "    start_time = datetime.datetime.now()\n",
    "    results.append(getLogMetrics(features,y,c))\n",
    "    times.append(datetime.datetime.now() - start_time)\n",
    "    print('С: ',c,' roc_auc: ',results[-1],'time:',times[-1])"
   ]
  },
  {
   "cell_type": "code",
   "execution_count": 8,
   "metadata": {},
   "outputs": [
    {
     "name": "stdout",
     "output_type": "stream",
     "text": [
      "r1_hero 108\n",
      "d1_hero 108\n",
      "r2_hero 108\n",
      "d2_hero 108\n",
      "r3_hero 108\n",
      "d3_hero 108\n",
      "r4_hero 108\n",
      "d4_hero 108\n",
      "r5_hero 108\n",
      "d5_hero 108\n"
     ]
    },
    {
     "data": {
      "text/plain": [
       "'\\nСтранные вещи! В каждой колонке по 108 уникальных значений, а в dictionaries есть записи о 113 персонажах. Это довольно странно\\n'"
      ]
     },
     "execution_count": 8,
     "metadata": {},
     "output_type": "execute_result"
    },
    {
     "data": {
      "image/png": "[encoded data removed]",
      "text/plain": [
       "<matplotlib.figure.Figure at 0x5ca6186c88>"
      ]
     },
     "metadata": {},
     "output_type": "display_data"
    }
   ],
   "source": [
    "'''\n",
    "Хмм, результаты очень похожи, модель не использовала удалённые признаки:\n",
    "С:  1e-05  roc_auc:  0.695100191344 time: 0:00:04.043231\n",
    "С:  0.0001  roc_auc:  0.711339145863 time: 0:00:06.487371\n",
    "С:  0.001  roc_auc:  0.716375799908 time: 0:00:12.491714\n",
    "С:  0.01  roc_auc:  0.716559388563 time: 0:00:15.713899\n",
    "С:  0.1  roc_auc:  0.716534240347 time: 0:00:18.200041\n",
    "С:  1  roc_auc:  0.716530363451 time: 0:00:18.408053\n",
    "С:  10  roc_auc:  0.716529971503 time: 0:00:18.147038\n",
    "С:  100  roc_auc:  0.716529891006 time: 0:00:18.212042\n",
    "С:  1000  roc_auc:  0.716529888885 time: 0:00:17.972028\n",
    "С:  10000  roc_auc:  0.71652988465 time: 0:00:17.973028\n",
    "С:  100000  roc_auc:  0.71652988465 time: 0:00:18.189040\n",
    "'''\n",
    "import matplotlib.pyplot as plt\n",
    "%matplotlib inline\n",
    "plt.figure()\n",
    "plt.plot(np.log10(c_list),results)\n",
    "\n",
    "'''\n",
    "На предыдущем шаге мы исключили из выборки признаки rM_hero и dM_hero,\n",
    "которые показывают, какие именно герои играли за каждую команду.\n",
    "Это важные признаки — герои имеют разные характеристики, и некоторые из них выигрывают чаще,\n",
    "чем другие. Выясните из данных, сколько различных идентификаторов героев существует\n",
    "в данной игре (вам может пригодиться фукнция unique или value_counts).\n",
    "Что ж, мы снесли эти признаки - восстановим их\n",
    "'''\n",
    "\n",
    "features = pandas.read_csv('./features.csv', index_col='match_id')\n",
    "y=features.radiant_win\n",
    "\n",
    "features=features.drop(['duration','radiant_win','tower_status_radiant',\n",
    "               'tower_status_dire','barracks_status_radiant','barracks_status_dire'],axis=1)\n",
    "features.fillna(0,inplace=True)\n",
    "\n",
    "#Выводим количество уникальных значений\n",
    "for M in ['1','2','3','4','5']:\n",
    "    for team in ['r','d']:\n",
    "        col_name=team+M+'_hero'\n",
    "        print(col_name,len(features[col_name].unique()))\n",
    "'''\n",
    "Странные вещи! В каждой колонке по 108 уникальных значений, а в dictionaries есть записи о 113 персонажах. Это довольно странно\n",
    "'''"
   ]
  },
  {
   "cell_type": "code",
   "execution_count": 9,
   "metadata": {},
   "outputs": [
    {
     "name": "stdout",
     "output_type": "stream",
     "text": [
      "C:  1e-05  roc_auc:  0.714803147624 time: 0:00:17.211324\n",
      "C:  0.0001  roc_auc:  0.742710055995 time: 0:00:26.593457\n",
      "C:  0.001  roc_auc:  0.751577289037 time: 0:00:46.561899\n",
      "C:  0.01  roc_auc:  0.751927374263 time: 0:01:07.662141\n",
      "C:  0.1  roc_auc:  0.751897356795 time: 0:01:14.058539\n",
      "C:  1  roc_auc:  0.751890984465 time: 0:01:11.014475\n",
      "C:  10  roc_auc:  0.75189036587 time: 0:01:16.539254\n",
      "C:  100  roc_auc:  0.751890274777 time: 0:01:17.251100\n",
      "C:  1000  roc_auc:  0.751890240887 time: 0:01:24.170818\n",
      "C:  10000  roc_auc:  0.751890240887 time: 0:01:17.601000\n",
      "C:  100000  roc_auc:  0.751890240888 time: 0:01:14.923902\n"
     ]
    }
   ],
   "source": [
    "scaler=StandardScaler()\n",
    "features = pandas.read_csv('./features.csv', index_col='match_id')\n",
    "y=features.radiant_win\n",
    "features=features.drop(['duration','radiant_win','tower_status_radiant',\n",
    "               'tower_status_dire','barracks_status_radiant','barracks_status_dire',\n",
    "                       'lobby_type'],axis=1)\n",
    "features.fillna(0,inplace=True)\n",
    "\n",
    "\n",
    "#Воспользуемся копипастой\n",
    "X_pick = np.zeros((features.shape[0], 113))\n",
    "for i, match_id in enumerate(features.index):\n",
    "    for p in range(5):\n",
    "        X_pick[i, features.loc[match_id, 'r%d_hero' % (p+1)]] = 1\n",
    "        X_pick[i, features.loc[match_id, 'd%d_hero' % (p+1)]] = -1\n",
    "X_pick[:,0]=features.index\n",
    "X_df=pandas.DataFrame(X_pick)\n",
    "X_df.set_index(0)\n",
    "X_df=X_df.rename(columns={0:'index'})\n",
    "X_df=X_df.set_index('index')\n",
    "features=features.join(X_df,how='right')\n",
    "features=pandas.DataFrame(scaler.fit_transform(features))\n",
    "\n",
    "results=[]\n",
    "times=[]\n",
    "c_list=[0.00001,0.0001,0.001,0.01,0.1,1,10,100,1000,10000,100000]\n",
    "for c in c_list:\n",
    "    start_time = datetime.datetime.now()\n",
    "    results.append(getLogMetrics(features,y,c))\n",
    "    times.append(datetime.datetime.now() - start_time)\n",
    "    print('C: ',c,' roc_auc: ',results[-1],'time:',times[-1])"
   ]
  },
  {
   "cell_type": "code",
   "execution_count": null,
   "metadata": {},
   "outputs": [],
   "source": [
    "'''\n",
    "Ого, +4%\n",
    "C:  1e-05  roc_auc:  0.714803147624 time: 0:00:08.855506\n",
    "C:  0.0001  roc_auc:  0.742710055995 time: 0:00:13.979800\n",
    "C:  0.001  roc_auc:  0.751577289037 time: 0:00:24.889423\n",
    "C:  0.01  roc_auc:  0.751927374263 time: 0:00:37.590150\n",
    "C:  0.1  roc_auc:  0.751897356795 time: 0:00:39.948284\n",
    "C:  1  roc_auc:  0.751890984465 time: 0:00:40.178299\n",
    "C:  10  roc_auc:  0.75189036587 time: 0:00:40.023289\n",
    "C:  100  roc_auc:  0.751890274777 time: 0:00:40.032289\n",
    "C:  1000  roc_auc:  0.751890240887 time: 0:00:39.521261\n",
    "C:  10000  roc_auc:  0.751890240887 time: 0:00:39.891282\n",
    "C:  100000  roc_auc:  0.751890240888 time: 0:00:39.907282\n",
    "Из-за добавления новых признаков качество сильно улучшилось, ура!\n",
    "'''"
   ]
  },
  {
   "cell_type": "code",
   "execution_count": null,
   "metadata": {},
   "outputs": [],
   "source": [
    "'''\n",
    "Пункты отчёта коротко:\n",
    "1. 71.6%, регрессия лучше и быстрее. На большом количестве данных и с \n",
    "хорошим масштабированием регрессия работает лучше\n",
    "2. Практически никак, регрессия хорошо справляется с мусорными данными\n",
    "3. 113 персонажей\n",
    "4. 75.2%. Сильно улучшилось, благодаря \"мешку слов\" регрессии удалось хорошо\n",
    "связать героя с его метрикой\n",
    "5. При отправке на kaggle качество и регрессии, и бустинга соответствовало\n",
    "приведённым данным, регрессия с C=0.01 лучше всех\n",
    "'''"
   ]
  },
  {
   "cell_type": "code",
   "execution_count": null,
   "metadata": {},
   "outputs": [],
   "source": []
  },
  {
   "cell_type": "code",
   "execution_count": null,
   "metadata": {},
   "outputs": [],
   "source": []
  },
  {
   "cell_type": "code",
   "execution_count": null,
   "metadata": {},
   "outputs": [],
   "source": []
  },
  {
   "cell_type": "code",
   "execution_count": null,
   "metadata": {},
   "outputs": [],
   "source": []
  },
  {
   "cell_type": "code",
   "execution_count": null,
   "metadata": {
    "scrolled": true
   },
   "outputs": [],
   "source": []
  },
  {
   "cell_type": "code",
   "execution_count": null,
   "metadata": {},
   "outputs": [],
   "source": []
  },
  {
   "cell_type": "code",
   "execution_count": null,
   "metadata": {},
   "outputs": [],
   "source": []
  },
  {
   "cell_type": "code",
   "execution_count": null,
   "metadata": {
    "collapsed": true
   },
   "outputs": [],
   "source": []
  }
 ],
 "metadata": {
  "kernelspec": {
   "display_name": "Python 3",
   "language": "python",
   "name": "python3"
  },
  "language_info": {
   "codemirror_mode": {
    "name": "ipython",
    "version": 3
   },
   "file_extension": ".py",
   "mimetype": "text/x-python",
   "name": "python",
   "nbconvert_exporter": "python",
   "pygments_lexer": "ipython3",
   "version": "3.6.1"
  }
 },
 "nbformat": 4,
 "nbformat_minor": 2
}
