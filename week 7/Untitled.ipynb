{
 "cells": [
  {
   "cell_type": "code",
   "execution_count": 8,
   "metadata": {
    "collapsed": true
   },
   "outputs": [],
   "source": [
    "import bz2\n",
    "import json\n",
    "from sklearn.model_selection import train_test_split "
   ]
  },
  {
   "cell_type": "code",
   "execution_count": 75,
   "metadata": {
    "collapsed": true
   },
   "outputs": [],
   "source": [
    "def readFeaturesWithSums(jsonTest,test):\n",
    "    res=[]\n",
    "    #res.append(['match_id','r_xp_sum','d_xp_sum','r_gold_sum','d_gold_sum','r_lh_sum',\n",
    "    #            'd_lh_sum','d_killers_count','r_killers_count'])\n",
    "    res.append(['match_id','r_xp_sum','d_xp_sum','r_gold_sum','d_gold_sum'])\n",
    "    with bz2.BZ2File(jsonTest) as matches_file:\n",
    "        for line in matches_file:\n",
    "            match = json.loads(line)\n",
    "            r_xp_sum=0\n",
    "            d_xp_sum=0\n",
    "            r_gold_sum=0\n",
    "            d_gold_sum=0\n",
    "            r_lh_sum=0\n",
    "            d_lh_sum=0\n",
    "            r_killers_count=len(match['players'][0]['kills_log'])\n",
    "            +len(match['players'][1]['kills_log'])\n",
    "            +len(match['players'][2]['kills_log'])\n",
    "            +len(match['players'][3]['kills_log'])\n",
    "            +len(match['players'][4]['kills_log'])\n",
    "            d_killers_count=len(match['players'][5]['kills_log'])\n",
    "            +len(match['players'][6]['kills_log'])\n",
    "            +len(match['players'][7]['kills_log'])\n",
    "            +len(match['players'][8]['kills_log'])\n",
    "            +len(match['players'][9]['kills_log'])\n",
    "            \n",
    "            for i in range(len(match['times'])):\n",
    "                if(match['times'][i]<=5*60):\n",
    "                    r_xp_sum=match['players'][0]['xp_t'][i]+match['players'][1]['xp_t'][i]+match['players'][2]['xp_t'][i]+match['players'][3]['xp_t'][i]+match['players'][4]['xp_t'][i]\n",
    "        \n",
    "                    d_xp_sum=match['players'][5]['xp_t'][i]\\\n",
    "                    +match['players'][6]['xp_t'][i]\\\n",
    "                    +match['players'][7]['xp_t'][i]\\\n",
    "                    +match['players'][8]['xp_t'][i]\\\n",
    "                    +match['players'][9]['xp_t'][i]\n",
    "        \n",
    "                    r_gold_sum=match['players'][0]['gold_t'][i]\\\n",
    "                    +match['players'][1]['gold_t'][i]\\\n",
    "                    +match['players'][2]['gold_t'][i]\\\n",
    "                    +match['players'][3]['gold_t'][i]\\\n",
    "                    +match['players'][4]['gold_t'][i]\n",
    "        \n",
    "                    d_gold_sum=match['players'][5]['gold_t'][i]\\\n",
    "                    +match['players'][6]['gold_t'][i]\\\n",
    "                    +match['players'][7]['gold_t'][i]\\\n",
    "                    +match['players'][8]['gold_t'][i]\\\n",
    "                    +match['players'][9]['gold_t'][i]\n",
    "     \n",
    "                    r_lh_sum=match['players'][0]['lh_t'][i]\\\n",
    "                    +match['players'][1]['lh_t'][i]\\\n",
    "                    +match['players'][2]['lh_t'][i]\\\n",
    "                    +match['players'][3]['lh_t'][i]\\\n",
    "                    +match['players'][4]['lh_t'][i]\n",
    "        \n",
    "                    d_lh_sum=match['players'][5]['lh_t'][i]\\\n",
    "                    +match['players'][6]['lh_t'][i]\\\n",
    "                    +match['players'][7]['lh_t'][i]\\\n",
    "                    +match['players'][8]['lh_t'][i]\\\n",
    "                    +match['players'][9]['lh_t'][i]\n",
    "            #res.append([match['match_id'],r_xp_sum,d_xp_sum,r_gold_sum,d_gold_sum,\n",
    "            #            r_lh_sum,d_lh_sum,d_killers_count,d_killers_count])\n",
    "            res.append([match['match_id'],r_xp_sum,d_xp_sum,r_gold_sum,d_gold_sum])\n",
    "    import csv\n",
    "    with open('tmp.csv', 'w', newline='') as csvfile:\n",
    "        spamwriter = csv.writer(csvfile, delimiter=',',\n",
    "                            quotechar='|', quoting=csv.QUOTE_MINIMAL)\n",
    "        spamwriter.writerows(res)\n",
    "    features = pandas.read_csv(test)    \n",
    "    s = pandas.read_csv('./tmp.csv', index_col='match_id')\n",
    "    result = pandas.merge(features, s, left_on='match_id', right_index=True, how='left', sort=False)\n",
    "    return result"
   ]
  },
  {
   "cell_type": "code",
   "execution_count": 86,
   "metadata": {},
   "outputs": [
    {
     "name": "stdout",
     "output_type": "stream",
     "text": [
      "fit, yea\n"
     ]
    },
    {
     "data": {
      "text/plain": [
       "'done'"
      ]
     },
     "execution_count": 86,
     "metadata": {},
     "output_type": "execute_result"
    }
   ],
   "source": [
    "'''\n",
    "#test=readFeaturesWithSums('matches_test.jsonlines.bz2','features_test.csv')\n",
    "#print('test')\n",
    "features=readFeaturesWithSums('matches.jsonlines.bz2','features.csv')\n",
    "#features=pandas.read_csv('features.csv')\n",
    "#test=pandas.read_csv('features_test.csv')\n",
    "print('features')\n",
    "features.fillna(9999999,inplace=True)\n",
    "test.fillna(9999999,inplace=True)\n",
    "y=features['radiant_win']\n",
    "features=features.drop(['duration','radiant_win','tower_status_radiant',\n",
    "               'tower_status_dire','barracks_status_radiant','barracks_status_dire'],axis=1)\n",
    "\n",
    "'''\n",
    "#features=readFeaturesWithSums('matches.jsonlines.bz2','features.csv')\n",
    "#print('reading\\'ve done')\n",
    "#features.fillna(9999999,inplace=True)\n",
    "#y=features['radiant_win']\n",
    "#features=features.drop(['duration','radiant_win','tower_status_radiant',\n",
    "#               'tower_status_dire','barracks_status_radiant','barracks_status_dire'],axis=1)\n",
    "clf=GradientBoostingClassifier(n_estimators=500, random_state=42)\n",
    "#X_train, X_test, y_train, y_test = train_test_split(features, y,test_size=0.2,random_state=42)\n",
    "#clf.fit(X_train,y_train)\n",
    "#pred=clf.predict_proba(X_test)[:,1]\n",
    "#print(roc_auc_score(y_test,pred))\n",
    "clf.fit(features,y)\n",
    "print('fit, yea')\n",
    "test=readFeaturesWithSums('matches_test.jsonlines.bz2','features_test.csv')\n",
    "test.fillna(9999999,inplace=True)\n",
    "pred=clf.predict_proba(test)[:,1]\n",
    "match_id=pandas.read_csv('./features_test.csv')['match_id']\n",
    "total=[]\n",
    "total.append([\"match_id\",\"radiant_win\"])\n",
    "for i in range(0,len(match_id)):\n",
    "    total.append([match_id[i],pred[i]])\n",
    "import csv\n",
    "with open('res.csv', 'w', newline='') as csvfile:\n",
    "    spamwriter = csv.writer(csvfile, delimiter=',',\n",
    "                            quotechar='|', quoting=csv.QUOTE_MINIMAL)\n",
    "    spamwriter.writerows(total)\n",
    "('done')"
   ]
  },
  {
   "cell_type": "code",
   "execution_count": 85,
   "metadata": {},
   "outputs": [
    {
     "data": {
      "text/plain": [
       "(97230, 107)"
      ]
     },
     "execution_count": 85,
     "metadata": {},
     "output_type": "execute_result"
    }
   ],
   "source": [
    "features.shape"
   ]
  },
  {
   "cell_type": "code",
   "execution_count": 44,
   "metadata": {
    "collapsed": true
   },
   "outputs": [],
   "source": [
    "pred=clf.predict_proba(test)[:,1]\n",
    "match_id=pandas.read_csv('./features_test.csv')['match_id']\n",
    "total=[]\n",
    "total.append([\"match_id\",\"radiant_win\"])\n",
    "for i in range(0,len(match_id)):\n",
    "    total.append([match_id[i],pred[i]])\n",
    "import csv\n",
    "with open('res.csv', 'w', newline='') as csvfile:\n",
    "    spamwriter = csv.writer(csvfile, delimiter=',',\n",
    "                            quotechar='|', quoting=csv.QUOTE_MINIMAL)\n",
    "    spamwriter.writerows(total)"
   ]
  },
  {
   "cell_type": "code",
   "execution_count": 18,
   "metadata": {
    "collapsed": true
   },
   "outputs": [],
   "source": [
    "#Repeat good models\n",
    "d_features=features\n",
    "d_y=y\n",
    "d_test=test\n",
    "d_clf=GradientBoostingClassifier(n_estimators=180, random_state=42,max_depth=7)\n",
    "d_clf.fit(d_features,d_y)\n",
    "d_pred=d_clf.predict_proba(d_test)[:,1]\n",
    "d_match_id=pandas.read_csv('./features_test.csv')['match_id']\n",
    "d_total=[]\n",
    "d_total.append([\"match_id\",\"radiant_win\"])\n",
    "for i in range(0,len(d_match_id)):\n",
    "    d_total.append([d_match_id[i],d_pred[i]])\n",
    "import csv\n",
    "with open('d_res.csv', 'w', newline='') as csvfile:\n",
    "    d_spamwriter = csv.writer(csvfile, delimiter=',',\n",
    "                            quotechar='|', quoting=csv.QUOTE_MINIMAL)\n",
    "    d_spamwriter.writerows(d_total)"
   ]
  },
  {
   "cell_type": "code",
   "execution_count": 22,
   "metadata": {},
   "outputs": [
    {
     "data": {
      "text/plain": [
       "1    1\n",
       "1    1\n",
       "1    1\n",
       "0    1\n",
       "0    1\n",
       "1    1\n",
       "1    1\n",
       "1    1\n",
       "1    1\n",
       "1    1\n",
       "0    1\n",
       "1    1\n",
       "0    1\n",
       "0    1\n",
       "0    1\n",
       "1    1\n",
       "0    1\n",
       "1    1\n",
       "0    1\n",
       "1    1\n",
       "1    1\n",
       "1    1\n",
       "1    1\n",
       "1    1\n",
       "0    1\n",
       "1    1\n",
       "1    1\n",
       "1    1\n",
       "0    1\n",
       "1    1\n",
       "    ..\n",
       "1    1\n",
       "0    1\n",
       "0    1\n",
       "1    1\n",
       "0    1\n",
       "1    1\n",
       "0    1\n",
       "1    1\n",
       "1    1\n",
       "0    1\n",
       "1    1\n",
       "1    1\n",
       "0    1\n",
       "1    1\n",
       "1    1\n",
       "0    1\n",
       "1    1\n",
       "0    1\n",
       "0    1\n",
       "1    1\n",
       "1    1\n",
       "0    1\n",
       "1    1\n",
       "1    1\n",
       "0    1\n",
       "1    1\n",
       "0    1\n",
       "1    1\n",
       "0    1\n",
       "1    1\n",
       "Name: radiant_win, Length: 19446, dtype: int64"
      ]
     },
     "execution_count": 22,
     "metadata": {},
     "output_type": "execute_result"
    }
   ],
   "source": [
    "y.iloc[y_test]"
   ]
  },
  {
   "cell_type": "code",
   "execution_count": null,
   "metadata": {
    "collapsed": true
   },
   "outputs": [],
   "source": []
  }
 ],
 "metadata": {
  "kernelspec": {
   "display_name": "Python 3",
   "language": "python",
   "name": "python3"
  },
  "language_info": {
   "codemirror_mode": {
    "name": "ipython",
    "version": 3
   },
   "file_extension": ".py",
   "mimetype": "text/x-python",
   "name": "python",
   "nbconvert_exporter": "python",
   "pygments_lexer": "ipython3",
   "version": "3.6.1"
  }
 },
 "nbformat": 4,
 "nbformat_minor": 2
}
